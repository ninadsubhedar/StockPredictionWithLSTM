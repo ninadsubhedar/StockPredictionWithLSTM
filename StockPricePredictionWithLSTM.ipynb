{
 "cells": [
  {
   "cell_type": "markdown",
   "metadata": {},
   "source": [
    "# Stock Price Prediction Using LSTMs"
   ]
  },
  {
   "cell_type": "markdown",
   "metadata": {},
   "source": [
    "### Abstract\n",
    "\n",
    "This notebook explores the use of LSTMs to predict stock prices. We are using LSTMs because they are well suited for time series data. LSTM is a variation of Recurrent Neural Networks that are capable of taking in series of data and selectivly forget data and output a predicted value. We will be using the stock price data of PayPal for training and testing. The data can be downloaded in CSV file with the use of an API provided by alpha vantage(https://www.alphavantage.co/)."
   ]
  },
  {
   "cell_type": "markdown",
   "metadata": {},
   "source": [
    "### Exploring data"
   ]
  },
  {
   "cell_type": "markdown",
   "metadata": {},
   "source": [
    "Importing all necessary libraries\n",
    "The main library used for creating the neural network is Keras\n",
    "Other libraries like Pandas, Numpy, Sklearn are used to import and work on data."
   ]
  },
  {
   "cell_type": "code",
   "execution_count": 1,
   "metadata": {},
   "outputs": [
    {
     "name": "stderr",
     "output_type": "stream",
     "text": [
      "Using TensorFlow backend.\n"
     ]
    }
   ],
   "source": [
    "import numpy as np\n",
    "import pandas as pd\n",
    "import matplotlib.pyplot as plt\n",
    "from sklearn.preprocessing import MinMaxScaler\n",
    "from keras.models import Sequential, load_model\n",
    "from keras.layers import LSTM, Dense, Dropout\n",
    "import os\n",
    "from sklearn.model_selection import train_test_split"
   ]
  },
  {
   "cell_type": "markdown",
   "metadata": {},
   "source": [
    "Importing csv file \n",
    "We can either import the CSV file using the URL or download the file separatly and then provide the path to that CSV file. \n",
    "Please note that the data fetched using the URL will be dynamic as it is live data. So for training and testing purpose we can download the file separatly and then use the CSV file."
   ]
  },
  {
   "cell_type": "code",
   "execution_count": 2,
   "metadata": {},
   "outputs": [
    {
     "data": {
      "text/html": [
       "<div>\n",
       "<style scoped>\n",
       "    .dataframe tbody tr th:only-of-type {\n",
       "        vertical-align: middle;\n",
       "    }\n",
       "\n",
       "    .dataframe tbody tr th {\n",
       "        vertical-align: top;\n",
       "    }\n",
       "\n",
       "    .dataframe thead th {\n",
       "        text-align: right;\n",
       "    }\n",
       "</style>\n",
       "<table border=\"1\" class=\"dataframe\">\n",
       "  <thead>\n",
       "    <tr style=\"text-align: right;\">\n",
       "      <th></th>\n",
       "      <th>timestamp</th>\n",
       "      <th>open</th>\n",
       "      <th>high</th>\n",
       "      <th>low</th>\n",
       "      <th>close</th>\n",
       "      <th>volume</th>\n",
       "    </tr>\n",
       "  </thead>\n",
       "  <tbody>\n",
       "    <tr>\n",
       "      <th>0</th>\n",
       "      <td>2019-07-19</td>\n",
       "      <td>120.74</td>\n",
       "      <td>121.36</td>\n",
       "      <td>118.60</td>\n",
       "      <td>118.63</td>\n",
       "      <td>4913977</td>\n",
       "    </tr>\n",
       "    <tr>\n",
       "      <th>1</th>\n",
       "      <td>2019-07-18</td>\n",
       "      <td>118.99</td>\n",
       "      <td>120.80</td>\n",
       "      <td>118.63</td>\n",
       "      <td>119.87</td>\n",
       "      <td>4440672</td>\n",
       "    </tr>\n",
       "    <tr>\n",
       "      <th>2</th>\n",
       "      <td>2019-07-17</td>\n",
       "      <td>119.65</td>\n",
       "      <td>119.99</td>\n",
       "      <td>118.80</td>\n",
       "      <td>118.81</td>\n",
       "      <td>4627478</td>\n",
       "    </tr>\n",
       "    <tr>\n",
       "      <th>3</th>\n",
       "      <td>2019-07-16</td>\n",
       "      <td>121.10</td>\n",
       "      <td>121.48</td>\n",
       "      <td>119.53</td>\n",
       "      <td>119.71</td>\n",
       "      <td>4006838</td>\n",
       "    </tr>\n",
       "    <tr>\n",
       "      <th>4</th>\n",
       "      <td>2019-07-15</td>\n",
       "      <td>120.77</td>\n",
       "      <td>121.04</td>\n",
       "      <td>119.80</td>\n",
       "      <td>120.90</td>\n",
       "      <td>3721345</td>\n",
       "    </tr>\n",
       "  </tbody>\n",
       "</table>\n",
       "</div>"
      ],
      "text/plain": [
       "    timestamp    open    high     low   close   volume\n",
       "0  2019-07-19  120.74  121.36  118.60  118.63  4913977\n",
       "1  2019-07-18  118.99  120.80  118.63  119.87  4440672\n",
       "2  2019-07-17  119.65  119.99  118.80  118.81  4627478\n",
       "3  2019-07-16  121.10  121.48  119.53  119.71  4006838\n",
       "4  2019-07-15  120.77  121.04  119.80  120.90  3721345"
      ]
     },
     "execution_count": 2,
     "metadata": {},
     "output_type": "execute_result"
    }
   ],
   "source": [
    "#stock_code = \"PYPL\"\n",
    "#api_key = \"\"\n",
    "#url = \"https://www.alphavantage.co/query?function=TIME_SERIES_DAILY&symbol=\"+stock_code+\"&apikey=\"+ api_key +\"&datatype=csv&outputsize=full\"\n",
    "#df = pd.read_csv(url)\n",
    "\n",
    "df = pd.read_csv(\"daily_PYPL.csv\")\n",
    "df.head()"
   ]
  },
  {
   "cell_type": "code",
   "execution_count": 3,
   "metadata": {},
   "outputs": [
    {
     "data": {
      "text/plain": [
       "(1008, 6)"
      ]
     },
     "execution_count": 3,
     "metadata": {},
     "output_type": "execute_result"
    }
   ],
   "source": [
    "df.shape"
   ]
  },
  {
   "cell_type": "markdown",
   "metadata": {},
   "source": [
    "We are only going to work with the Open values for the stock so we select just the \"Open\" Column and reshape the data frame "
   ]
  },
  {
   "cell_type": "code",
   "execution_count": 4,
   "metadata": {},
   "outputs": [],
   "source": [
    "df = df['open'].values\n",
    "df = df.reshape(-1, 1)"
   ]
  },
  {
   "cell_type": "markdown",
   "metadata": {},
   "source": [
    "Plotting open Prices for visualizing the data."
   ]
  },
  {
   "cell_type": "code",
   "execution_count": 5,
   "metadata": {},
   "outputs": [
    {
     "data": {
      "text/plain": [
       "<matplotlib.legend.Legend at 0x7ff49b95bf28>"
      ]
     },
     "execution_count": 5,
     "metadata": {},
     "output_type": "execute_result"
    },
    {
     "data": {
      "image/png": "[encoded data removed]",
      "text/plain": [
       "<Figure size 576x288 with 1 Axes>"
      ]
     },
     "metadata": {
      "needs_background": "light"
     },
     "output_type": "display_data"
    }
   ],
   "source": [
    "fig, ax = plt.subplots(figsize=(8,4))\n",
    "plt.plot(df, color='red',  label=\"Open Price\")\n",
    "plt.legend()"
   ]
  },
  {
   "cell_type": "markdown",
   "metadata": {},
   "source": [
    "### Creating data for training LSTM\n"
   ]
  },
  {
   "cell_type": "markdown",
   "metadata": {},
   "source": [
    "The stock price data which we would be using for training and testing will consist of a bunch of 50 sequential values as X and the next value as its corresponding y. So while splitting the data into training and test dataset, the test data has to have the an overlap of 50 sequential values with the training set."
   ]
  },
  {
   "cell_type": "markdown",
   "metadata": {},
   "source": [
    "### Creating Training and testing datasets\n",
    "\n",
    "We split the data into 80% training and 20% testing dataset.\n"
   ]
  },
  {
   "cell_type": "code",
   "execution_count": 6,
   "metadata": {},
   "outputs": [
    {
     "name": "stdout",
     "output_type": "stream",
     "text": [
      "(806, 1)\n",
      "(252, 1)\n"
     ]
    }
   ],
   "source": [
    "dataset_train = np.array(df[:int(df.shape[0]*0.8)])\n",
    "dataset_test = np.array(df[int(df.shape[0]*0.8)-50:])\n",
    "print(dataset_train.shape)\n",
    "print(dataset_test.shape)"
   ]
  },
  {
   "cell_type": "markdown",
   "metadata": {},
   "source": [
    "The data values do not have a specific range and have to be normalized so that it can be feed into the model.\n",
    "Here we use MinMaxScaler to scale the values between 0 and 1."
   ]
  },
  {
   "cell_type": "code",
   "execution_count": 7,
   "metadata": {},
   "outputs": [],
   "source": [
    "scaler = MinMaxScaler(feature_range=(0,1))"
   ]
  },
  {
   "cell_type": "markdown",
   "metadata": {},
   "source": [
    "Scaling training and testing data"
   ]
  },
  {
   "cell_type": "code",
   "execution_count": 8,
   "metadata": {},
   "outputs": [],
   "source": [
    "dataset_train = scaler.fit_transform(dataset_train)"
   ]
  },
  {
   "cell_type": "code",
   "execution_count": 9,
   "metadata": {},
   "outputs": [],
   "source": [
    "dataset_test = scaler.transform(dataset_test)"
   ]
  },
  {
   "cell_type": "markdown",
   "metadata": {},
   "source": [
    "Creating method for generating dataset with X and y.\n",
    "Here we bundle 50 sequental values togeter to form a single x which corresponds to a y which will be the next value in the sequence."
   ]
  },
  {
   "cell_type": "code",
   "execution_count": 10,
   "metadata": {},
   "outputs": [],
   "source": [
    "def create_dataset(df):\n",
    "    x = []\n",
    "    y = []\n",
    "    for i in range(50, df.shape[0]):\n",
    "        x.append(df[i-50:i, 0])\n",
    "        y.append(df[i, 0])\n",
    "    x = np.array(x)\n",
    "    y = np.array(y)\n",
    "    return x,y"
   ]
  },
  {
   "cell_type": "markdown",
   "metadata": {},
   "source": [
    "Applying the method on train and test data."
   ]
  },
  {
   "cell_type": "code",
   "execution_count": 11,
   "metadata": {},
   "outputs": [],
   "source": [
    "x_train, y_train = create_dataset(dataset_train)"
   ]
  },
  {
   "cell_type": "code",
   "execution_count": 12,
   "metadata": {},
   "outputs": [],
   "source": [
    "x_test, y_test = create_dataset(dataset_test)"
   ]
  },
  {
   "cell_type": "markdown",
   "metadata": {},
   "source": [
    "Reshaping X values so that the LSTM layers can take them as inputs"
   ]
  },
  {
   "cell_type": "code",
   "execution_count": 13,
   "metadata": {},
   "outputs": [],
   "source": [
    "# Reshape features for LSTM Layer\n",
    "x_train = np.reshape(x_train, (x_train.shape[0], x_train.shape[1], 1))\n",
    "x_test = np.reshape(x_test, (x_test.shape[0], x_test.shape[1], 1))"
   ]
  },
  {
   "cell_type": "markdown",
   "metadata": {},
   "source": [
    "### LSTM Model"
   ]
  },
  {
   "cell_type": "markdown",
   "metadata": {},
   "source": [
    "Here we will create a Neural Network using one input LSTM layer, one output LSTM layer and 2 hidden LSTM layers.\n",
    "Each LSTM layers will have 100 units each.\n",
    "We will set drop out to 0.2 for regularizing the neural network."
   ]
  },
  {
   "cell_type": "code",
   "execution_count": 14,
   "metadata": {},
   "outputs": [
    {
     "name": "stderr",
     "output_type": "stream",
     "text": [
      "WARNING: Logging before flag parsing goes to stderr.\n",
      "W0727 21:48:04.101360 140690913621760 deprecation_wrapper.py:119] From /usr/local/lib/python3.5/dist-packages/keras/backend/tensorflow_backend.py:74: The name tf.get_default_graph is deprecated. Please use tf.compat.v1.get_default_graph instead.\n",
      "\n",
      "W0727 21:48:04.133232 140690913621760 deprecation_wrapper.py:119] From /usr/local/lib/python3.5/dist-packages/keras/backend/tensorflow_backend.py:517: The name tf.placeholder is deprecated. Please use tf.compat.v1.placeholder instead.\n",
      "\n",
      "W0727 21:48:04.141675 140690913621760 deprecation_wrapper.py:119] From /usr/local/lib/python3.5/dist-packages/keras/backend/tensorflow_backend.py:4138: The name tf.random_uniform is deprecated. Please use tf.random.uniform instead.\n",
      "\n",
      "W0727 21:48:04.401571 140690913621760 deprecation_wrapper.py:119] From /usr/local/lib/python3.5/dist-packages/keras/backend/tensorflow_backend.py:133: The name tf.placeholder_with_default is deprecated. Please use tf.compat.v1.placeholder_with_default instead.\n",
      "\n",
      "W0727 21:48:04.410723 140690913621760 deprecation.py:506] From /usr/local/lib/python3.5/dist-packages/keras/backend/tensorflow_backend.py:3445: calling dropout (from tensorflow.python.ops.nn_ops) with keep_prob is deprecated and will be removed in a future version.\n",
      "Instructions for updating:\n",
      "Please use `rate` instead of `keep_prob`. Rate should be set to `rate = 1 - keep_prob`.\n"
     ]
    }
   ],
   "source": [
    "model = Sequential()\n",
    "model.add(LSTM(units=100, return_sequences=True, input_shape=(x_train.shape[1], 1)))\n",
    "model.add(Dropout(0.2))\n",
    "model.add(LSTM(units=100, return_sequences=True))\n",
    "model.add(Dropout(0.2))\n",
    "model.add(LSTM(units=100, return_sequences=True))\n",
    "model.add(Dropout(0.2))\n",
    "model.add(LSTM(units=100))\n",
    "model.add(Dropout(0.2))\n",
    "model.add(Dense(units=1))"
   ]
  },
  {
   "cell_type": "markdown",
   "metadata": {},
   "source": [
    "We will use mean squared error as the loss function\n",
    "And Adam optimizer while training the model"
   ]
  },
  {
   "cell_type": "code",
   "execution_count": 15,
   "metadata": {},
   "outputs": [
    {
     "name": "stderr",
     "output_type": "stream",
     "text": [
      "W0727 21:48:05.340456 140690913621760 deprecation_wrapper.py:119] From /usr/local/lib/python3.5/dist-packages/keras/optimizers.py:790: The name tf.train.Optimizer is deprecated. Please use tf.compat.v1.train.Optimizer instead.\n",
      "\n"
     ]
    }
   ],
   "source": [
    "model.compile(loss='mean_squared_error', optimizer='adam')\n"
   ]
  },
  {
   "cell_type": "markdown",
   "metadata": {},
   "source": [
    "Fitting the model for 50 epochs and batch size as 30"
   ]
  },
  {
   "cell_type": "code",
   "execution_count": 16,
   "metadata": {},
   "outputs": [
    {
     "name": "stderr",
     "output_type": "stream",
     "text": [
      "W0727 21:48:05.722908 140690913621760 deprecation.py:323] From /usr/local/lib/python3.5/dist-packages/tensorflow/python/ops/math_grad.py:1250: add_dispatch_support.<locals>.wrapper (from tensorflow.python.ops.array_ops) is deprecated and will be removed in a future version.\n",
      "Instructions for updating:\n",
      "Use tf.where in 2.0, which has the same broadcast rule as np.where\n",
      "W0727 21:48:08.981673 140690913621760 deprecation_wrapper.py:119] From /usr/local/lib/python3.5/dist-packages/keras/backend/tensorflow_backend.py:986: The name tf.assign_add is deprecated. Please use tf.compat.v1.assign_add instead.\n",
      "\n"
     ]
    },
    {
     "name": "stdout",
     "output_type": "stream",
     "text": [
      "Epoch 1/50\n",
      "756/756 [==============================] - 19s 25ms/step - loss: 0.0312\n",
      "Epoch 2/50\n",
      "756/756 [==============================] - 9s 13ms/step - loss: 0.0036\n",
      "Epoch 3/50\n",
      "756/756 [==============================] - 10s 13ms/step - loss: 0.0025\n",
      "Epoch 4/50\n",
      "756/756 [==============================] - 9s 12ms/step - loss: 0.0026\n",
      "Epoch 5/50\n",
      "756/756 [==============================] - 9s 12ms/step - loss: 0.0025\n",
      "Epoch 6/50\n",
      "756/756 [==============================] - 9s 12ms/step - loss: 0.0024\n",
      "Epoch 7/50\n",
      "756/756 [==============================] - 9s 12ms/step - loss: 0.0024\n",
      "Epoch 8/50\n",
      "756/756 [==============================] - 9s 12ms/step - loss: 0.0021\n",
      "Epoch 9/50\n",
      "756/756 [==============================] - 9s 12ms/step - loss: 0.0019\n",
      "Epoch 10/50\n",
      "756/756 [==============================] - 9s 12ms/step - loss: 0.0023\n",
      "Epoch 11/50\n",
      "756/756 [==============================] - 9s 12ms/step - loss: 0.0023\n",
      "Epoch 12/50\n",
      "756/756 [==============================] - 9s 12ms/step - loss: 0.0021\n",
      "Epoch 13/50\n",
      "756/756 [==============================] - 9s 12ms/step - loss: 0.0024\n",
      "Epoch 14/50\n",
      "756/756 [==============================] - 9s 12ms/step - loss: 0.0020\n",
      "Epoch 15/50\n",
      "756/756 [==============================] - 9s 12ms/step - loss: 0.0021\n",
      "Epoch 16/50\n",
      "756/756 [==============================] - 9s 12ms/step - loss: 0.0022\n",
      "Epoch 17/50\n",
      "756/756 [==============================] - 9s 12ms/step - loss: 0.0020\n",
      "Epoch 18/50\n",
      "756/756 [==============================] - 9s 12ms/step - loss: 0.0021\n",
      "Epoch 19/50\n",
      "756/756 [==============================] - 9s 12ms/step - loss: 0.0018\n",
      "Epoch 20/50\n",
      "756/756 [==============================] - 9s 12ms/step - loss: 0.0022\n",
      "Epoch 21/50\n",
      "756/756 [==============================] - 9s 12ms/step - loss: 0.0020\n",
      "Epoch 22/50\n",
      "756/756 [==============================] - 9s 12ms/step - loss: 0.0019\n",
      "Epoch 23/50\n",
      "756/756 [==============================] - 9s 12ms/step - loss: 0.0027\n",
      "Epoch 24/50\n",
      "756/756 [==============================] - 9s 12ms/step - loss: 0.0017\n",
      "Epoch 25/50\n",
      "756/756 [==============================] - 9s 12ms/step - loss: 0.0016\n",
      "Epoch 26/50\n",
      "756/756 [==============================] - 9s 12ms/step - loss: 0.0017\n",
      "Epoch 27/50\n",
      "756/756 [==============================] - 9s 12ms/step - loss: 0.0023\n",
      "Epoch 28/50\n",
      "756/756 [==============================] - 9s 12ms/step - loss: 0.0018\n",
      "Epoch 29/50\n",
      "756/756 [==============================] - 9s 12ms/step - loss: 0.0018\n",
      "Epoch 30/50\n",
      "756/756 [==============================] - 9s 12ms/step - loss: 0.0018\n",
      "Epoch 31/50\n",
      "756/756 [==============================] - 9s 12ms/step - loss: 0.0016\n",
      "Epoch 32/50\n",
      "756/756 [==============================] - 9s 12ms/step - loss: 0.0018\n",
      "Epoch 33/50\n",
      "756/756 [==============================] - 9s 12ms/step - loss: 0.0016\n",
      "Epoch 34/50\n",
      "756/756 [==============================] - 9s 12ms/step - loss: 0.0018\n",
      "Epoch 35/50\n",
      "756/756 [==============================] - 9s 12ms/step - loss: 0.0015\n",
      "Epoch 36/50\n",
      "756/756 [==============================] - 9s 12ms/step - loss: 0.0017\n",
      "Epoch 37/50\n",
      "756/756 [==============================] - 10s 13ms/step - loss: 0.0017\n",
      "Epoch 38/50\n",
      "756/756 [==============================] - 9s 12ms/step - loss: 0.0016\n",
      "Epoch 39/50\n",
      "756/756 [==============================] - 9s 12ms/step - loss: 0.0015\n",
      "Epoch 40/50\n",
      "756/756 [==============================] - 9s 12ms/step - loss: 0.0014\n",
      "Epoch 41/50\n",
      "756/756 [==============================] - 9s 12ms/step - loss: 0.0018\n",
      "Epoch 42/50\n",
      "756/756 [==============================] - 9s 12ms/step - loss: 0.0015\n",
      "Epoch 43/50\n",
      "756/756 [==============================] - 9s 12ms/step - loss: 0.0012\n",
      "Epoch 44/50\n",
      "756/756 [==============================] - 9s 12ms/step - loss: 0.0013\n",
      "Epoch 45/50\n",
      "756/756 [==============================] - 9s 12ms/step - loss: 0.0015\n",
      "Epoch 46/50\n",
      "756/756 [==============================] - 9s 12ms/step - loss: 0.0016\n",
      "Epoch 47/50\n",
      "756/756 [==============================] - 9s 12ms/step - loss: 0.0014\n",
      "Epoch 48/50\n",
      "756/756 [==============================] - 9s 12ms/step - loss: 0.0016\n",
      "Epoch 49/50\n",
      "756/756 [==============================] - 9s 12ms/step - loss: 0.0011\n",
      "Epoch 50/50\n",
      "756/756 [==============================] - 9s 12ms/step - loss: 0.0012\n"
     ]
    },
    {
     "data": {
      "text/plain": [
       "<keras.callbacks.History at 0x7ff4998cd0b8>"
      ]
     },
     "execution_count": 16,
     "metadata": {},
     "output_type": "execute_result"
    }
   ],
   "source": [
    "model.fit(x_train, y_train, epochs=50, batch_size=30)"
   ]
  },
  {
   "cell_type": "markdown",
   "metadata": {},
   "source": [
    "### Testing the model"
   ]
  },
  {
   "cell_type": "markdown",
   "metadata": {},
   "source": [
    "We will now try to create predictions using the test data and plot them to visualize the predictions"
   ]
  },
  {
   "cell_type": "code",
   "execution_count": 17,
   "metadata": {},
   "outputs": [
    {
     "data": {
      "text/plain": [
       "<matplotlib.legend.Legend at 0x7ff490030f28>"
      ]
     },
     "execution_count": 17,
     "metadata": {},
     "output_type": "execute_result"
    },
    {
     "data": {
      "image/png": "[encoded data removed]",
      "text/plain": [
       "<Figure size 576x288 with 1 Axes>"
      ]
     },
     "metadata": {
      "needs_background": "light"
     },
     "output_type": "display_data"
    }
   ],
   "source": [
    "predictions = model.predict(x_test)\n",
    "predictions = scaler.inverse_transform(predictions)\n",
    "\n",
    "fig, ax = plt.subplots(figsize=(8,4))\n",
    "plt.plot(df, color='red',  label=\"True Price\")\n",
    "ax.plot(range(len(y_train)+50,len(y_train)+50+len(predictions)),predictions, color='blue', label='Predicted Testing Price')\n",
    "plt.legend()"
   ]
  },
  {
   "cell_type": "markdown",
   "metadata": {},
   "source": [
    "zooming in on the predictions and actual"
   ]
  },
  {
   "cell_type": "code",
   "execution_count": 18,
   "metadata": {},
   "outputs": [
    {
     "data": {
      "text/plain": [
       "<matplotlib.legend.Legend at 0x7ff4806e6668>"
      ]
     },
     "execution_count": 18,
     "metadata": {},
     "output_type": "execute_result"
    },
    {
     "data": {
      "image/png": "[encoded data removed]",
      "text/plain": [
       "<Figure size 576x288 with 1 Axes>"
      ]
     },
     "metadata": {
      "needs_background": "light"
     },
     "output_type": "display_data"
    }
   ],
   "source": [
    "y_test_scaled = scaler.inverse_transform(y_test.reshape(-1, 1))\n",
    "\n",
    "fig, ax = plt.subplots(figsize=(8,4))\n",
    "ax.plot(y_test_scaled, color='red', label='True Testing Price')\n",
    "plt.plot(predictions, color='blue', label='Predicted Testing Price')\n",
    "plt.legend()"
   ]
  },
  {
   "cell_type": "markdown",
   "metadata": {},
   "source": [
    "### Conclusion\n",
    "\n",
    "Here we see that the predicted values are close to the actual values. As per the model the MSE is 0.0011 for 50 epochs and batch size 30.\n",
    "Next step would be to create a Neural network for sentimental analysis of twitter feed. And then creating an ensambled network of this LSTM and Sentimental Analysis Network to see if there is any positive change for predicting stock prices. "
   ]
  },
  {
   "cell_type": "markdown",
   "metadata": {},
   "source": [
    "### Contributions\n",
    "1. Code contributed by me ~ 20% code\n",
    "2. From other sources ~ 80% code"
   ]
  },
  {
   "cell_type": "markdown",
   "metadata": {},
   "source": [
    "### Citation\n",
    "1. [Stock Market Prediction by Recurrent Neural Network on LSTM Model](https://blog.usejournal.com/stock-market-prediction-by-recurrent-neural-network-on-lstm-model-56de700bff68)\n",
    "2. [Stock market prediction](https://en.wikipedia.org/wiki/Stock_market_prediction)\n",
    "3. [Stock Price Prediction using a Recurrent Neural Network](https://www.youtube.com/watch?v=lpU3PGyDKQ4)"
   ]
  },
  {
   "cell_type": "markdown",
   "metadata": {},
   "source": [
    "<div class=\"alert alert-block alert-info\">\n",
    "MIT License \n",
    "\n",
    "Copyright (c) 2019 Ninad Subhedar \n",
    "\n",
    "Permission is hereby granted, free of charge, to any person obtaining a copy of this software and associated documentation files (the \"Software\"), to deal in the Software without restriction, including without limitation the rights to use, copy, modify, merge, publish, distribute, sublicense, and/or sell copies of the Software, and to permit persons to whom the Software is furnished to do so, subject to the following conditions: \n",
    "\n",
    "The above copyright notice and this permission notice shall be included in all copies or substantial portions of the Software. \n",
    "\n",
    "THE SOFTWARE IS PROVIDED \"AS IS\", WITHOUT WARRANTY OF ANY KIND, EXPRESS OR IMPLIED, INCLUDING BUT NOT LIMITED TO THE WARRANTIES OF MERCHANTABILITY, FITNESS FOR A PARTICULAR PURPOSE AND NONINFRINGEMENT. IN NO EVENT SHALL THE AUTHORS OR COPYRIGHT HOLDERS BE LIABLE FOR ANY CLAIM, DAMAGES OR OTHER LIABILITY, WHETHER IN AN ACTION OF CONTRACT, TORT OR OTHERWISE, ARISING FROM, OUT OF OR IN CONNECTION WITH THE SOFTWARE OR THE USE OR OTHER DEALINGS IN THE SOFTWARE.\n",
    "</div>"
   ]
  }
 ],
 "metadata": {
  "kernelspec": {
   "display_name": "Python 3",
   "language": "python",
   "name": "python3"
  },
  "language_info": {
   "codemirror_mode": {
    "name": "ipython",
    "version": 3
   },
   "file_extension": ".py",
   "mimetype": "text/x-python",
   "name": "python",
   "nbconvert_exporter": "python",
   "pygments_lexer": "ipython3",
   "version": "3.6.1"
  }
 },
 "nbformat": 4,
 "nbformat_minor": 2
}
